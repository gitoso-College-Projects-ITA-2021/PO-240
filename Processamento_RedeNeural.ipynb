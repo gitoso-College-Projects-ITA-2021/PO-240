{
 "metadata": {
  "language_info": {
   "codemirror_mode": {
    "name": "ipython",
    "version": 3
   },
   "file_extension": ".py",
   "mimetype": "text/x-python",
   "name": "python",
   "nbconvert_exporter": "python",
   "pygments_lexer": "ipython3",
   "version": "3.8.6-final"
  },
  "orig_nbformat": 2,
  "kernelspec": {
   "name": "python3",
   "display_name": "Python 3"
  }
 },
 "nbformat": 4,
 "nbformat_minor": 2,
 "cells": [
  {
   "source": [
    "## PO-240: Redes Neurais"
   ],
   "cell_type": "markdown",
   "metadata": {}
  },
  {
   "source": [
    "### Importando Bibliotecas"
   ],
   "cell_type": "markdown",
   "metadata": {}
  },
  {
   "cell_type": "code",
   "execution_count": 3,
   "metadata": {},
   "outputs": [],
   "source": [
    "import os\n",
    "\n",
    "from datetime import datetime\n",
    "import pandas as pd\n",
    "import seaborn as sn\n",
    "import tensorflow as tf\n",
    "import matplotlib.pyplot as plt\n",
    "\n",
    "from sklearn.model_selection import train_test_split\n",
    "\n",
    "import tensorflow.keras.models      as models\n",
    "import tensorflow.keras.losses      as losses\n",
    "import tensorflow.keras.layers      as layers\n",
    "import tensorflow.keras.metrics     as metrics\n",
    "import tensorflow.keras.optimizers  as optimizers\n",
    "import tensorflow.keras.activations as activations"
   ]
  },
  {
   "cell_type": "code",
   "execution_count": 7,
   "metadata": {},
   "outputs": [
    {
     "output_type": "stream",
     "name": "stdout",
     "text": [
      "Num GPUs Available:  0\n[name: \"/device:CPU:0\"\ndevice_type: \"CPU\"\nmemory_limit: 268435456\nlocality {\n}\nincarnation: 2814943367962273157\n, name: \"/device:XLA_CPU:0\"\ndevice_type: \"XLA_CPU\"\nmemory_limit: 17179869184\nlocality {\n}\nincarnation: 7009365674716889354\nphysical_device_desc: \"device: XLA_CPU device\"\n, name: \"/device:XLA_GPU:0\"\ndevice_type: \"XLA_GPU\"\nmemory_limit: 17179869184\nlocality {\n}\nincarnation: 12186294957598253953\nphysical_device_desc: \"device: XLA_GPU device\"\n]\n"
     ]
    }
   ],
   "source": [
    "from tensorflow.python.client import device_lib \n",
    "print(\"Num GPUs Available: \", len(tf.config.experimental.list_physical_devices('GPU')))\n",
    "print(device_lib.list_local_devices())"
   ]
  },
  {
   "source": [
    "### Importando o Dataset"
   ],
   "cell_type": "markdown",
   "metadata": {}
  },
  {
   "cell_type": "code",
   "execution_count": 6,
   "metadata": {},
   "outputs": [
    {
     "output_type": "execute_result",
     "data": {
      "text/plain": [
       "   date  input_0  input_1  input_2  input_3  input_4_1  input_5_1  input_6_1  \\\n",
       "0     1        7        0      212       61   1.319214  -0.206138   2.953064   \n",
       "1     1        7        1      212       61   0.015678  -0.206138  -0.055500   \n",
       "2     1        7        2      212       61  -0.718217  -0.206138  -0.657213   \n",
       "3     1        7        3      212       61  -0.802090  -0.206138  -0.657213   \n",
       "4     1       13        0      183      142  -0.007038  -0.271512   0.924559   \n",
       "\n",
       "   input_7_1  input_8_1  ...  output_7_6  output_8_6  output_9_6  output_10_6  \\\n",
       "0   1.556292   0.585759  ...   -0.699538   -0.590900   -0.191157     1.654277   \n",
       "1   0.112412   2.777662  ...   -0.500047   -0.590900   -0.191157    -0.050361   \n",
       "2   0.112412  -0.510193  ...   -0.699538   -0.590900   -0.191157    -0.391288   \n",
       "3  -0.609528  -0.510193  ...   -0.699538   -0.590900   -0.191157    -0.220824   \n",
       "4   1.409946   0.810025  ...   -0.149904    0.733469    0.444222     0.691026   \n",
       "\n",
       "   output_11_6  output_12_6  output_13_6  output_14_6  output_15_6  \\\n",
       "0     0.263587    -0.748686    -0.083200    -0.669203    -0.250413   \n",
       "1    -0.129333    -0.668941    -0.083200     0.010553    -0.456349   \n",
       "2    -0.746778    -0.908174    -0.083200    -0.669203    -0.662284   \n",
       "3    -0.915172    -0.987918    -0.083200    -0.669203    -0.662284   \n",
       "4     0.246365     0.313061    -0.190019     0.467357    -0.468351   \n",
       "\n",
       "   output_16_6  \n",
       "0    -0.450770  \n",
       "1    -0.450770  \n",
       "2    -0.450770  \n",
       "3    -0.450770  \n",
       "4     0.300399  \n",
       "\n",
       "[5 rows x 7859 columns]"
      ],
      "text/html": "<div>\n<style scoped>\n    .dataframe tbody tr th:only-of-type {\n        vertical-align: middle;\n    }\n\n    .dataframe tbody tr th {\n        vertical-align: top;\n    }\n\n    .dataframe thead th {\n        text-align: right;\n    }\n</style>\n<table border=\"1\" class=\"dataframe\">\n  <thead>\n    <tr style=\"text-align: right;\">\n      <th></th>\n      <th>date</th>\n      <th>input_0</th>\n      <th>input_1</th>\n      <th>input_2</th>\n      <th>input_3</th>\n      <th>input_4_1</th>\n      <th>input_5_1</th>\n      <th>input_6_1</th>\n      <th>input_7_1</th>\n      <th>input_8_1</th>\n      <th>...</th>\n      <th>output_7_6</th>\n      <th>output_8_6</th>\n      <th>output_9_6</th>\n      <th>output_10_6</th>\n      <th>output_11_6</th>\n      <th>output_12_6</th>\n      <th>output_13_6</th>\n      <th>output_14_6</th>\n      <th>output_15_6</th>\n      <th>output_16_6</th>\n    </tr>\n  </thead>\n  <tbody>\n    <tr>\n      <th>0</th>\n      <td>1</td>\n      <td>7</td>\n      <td>0</td>\n      <td>212</td>\n      <td>61</td>\n      <td>1.319214</td>\n      <td>-0.206138</td>\n      <td>2.953064</td>\n      <td>1.556292</td>\n      <td>0.585759</td>\n      <td>...</td>\n      <td>-0.699538</td>\n      <td>-0.590900</td>\n      <td>-0.191157</td>\n      <td>1.654277</td>\n      <td>0.263587</td>\n      <td>-0.748686</td>\n      <td>-0.083200</td>\n      <td>-0.669203</td>\n      <td>-0.250413</td>\n      <td>-0.450770</td>\n    </tr>\n    <tr>\n      <th>1</th>\n      <td>1</td>\n      <td>7</td>\n      <td>1</td>\n      <td>212</td>\n      <td>61</td>\n      <td>0.015678</td>\n      <td>-0.206138</td>\n      <td>-0.055500</td>\n      <td>0.112412</td>\n      <td>2.777662</td>\n      <td>...</td>\n      <td>-0.500047</td>\n      <td>-0.590900</td>\n      <td>-0.191157</td>\n      <td>-0.050361</td>\n      <td>-0.129333</td>\n      <td>-0.668941</td>\n      <td>-0.083200</td>\n      <td>0.010553</td>\n      <td>-0.456349</td>\n      <td>-0.450770</td>\n    </tr>\n    <tr>\n      <th>2</th>\n      <td>1</td>\n      <td>7</td>\n      <td>2</td>\n      <td>212</td>\n      <td>61</td>\n      <td>-0.718217</td>\n      <td>-0.206138</td>\n      <td>-0.657213</td>\n      <td>0.112412</td>\n      <td>-0.510193</td>\n      <td>...</td>\n      <td>-0.699538</td>\n      <td>-0.590900</td>\n      <td>-0.191157</td>\n      <td>-0.391288</td>\n      <td>-0.746778</td>\n      <td>-0.908174</td>\n      <td>-0.083200</td>\n      <td>-0.669203</td>\n      <td>-0.662284</td>\n      <td>-0.450770</td>\n    </tr>\n    <tr>\n      <th>3</th>\n      <td>1</td>\n      <td>7</td>\n      <td>3</td>\n      <td>212</td>\n      <td>61</td>\n      <td>-0.802090</td>\n      <td>-0.206138</td>\n      <td>-0.657213</td>\n      <td>-0.609528</td>\n      <td>-0.510193</td>\n      <td>...</td>\n      <td>-0.699538</td>\n      <td>-0.590900</td>\n      <td>-0.191157</td>\n      <td>-0.220824</td>\n      <td>-0.915172</td>\n      <td>-0.987918</td>\n      <td>-0.083200</td>\n      <td>-0.669203</td>\n      <td>-0.662284</td>\n      <td>-0.450770</td>\n    </tr>\n    <tr>\n      <th>4</th>\n      <td>1</td>\n      <td>13</td>\n      <td>0</td>\n      <td>183</td>\n      <td>142</td>\n      <td>-0.007038</td>\n      <td>-0.271512</td>\n      <td>0.924559</td>\n      <td>1.409946</td>\n      <td>0.810025</td>\n      <td>...</td>\n      <td>-0.149904</td>\n      <td>0.733469</td>\n      <td>0.444222</td>\n      <td>0.691026</td>\n      <td>0.246365</td>\n      <td>0.313061</td>\n      <td>-0.190019</td>\n      <td>0.467357</td>\n      <td>-0.468351</td>\n      <td>0.300399</td>\n    </tr>\n  </tbody>\n</table>\n<p>5 rows × 7859 columns</p>\n</div>"
     },
     "metadata": {},
     "execution_count": 6
    }
   ],
   "source": [
    "dataset_folder = 'KaggleDatasets/RAW/'\n",
    "preprocess_folder = 'KaggleDatasets/PRE/'\n",
    "filename = 'KaggleDatasets/PRE/preprocessado_small.csv'\n",
    "dataset = pd.read_csv(filename)\n",
    "dataset.head()\n"
   ]
  },
  {
   "source": [
    "### Separando o Dataset"
   ],
   "cell_type": "markdown",
   "metadata": {}
  },
  {
   "cell_type": "code",
   "execution_count": 8,
   "metadata": {
    "tags": []
   },
   "outputs": [],
   "source": [
    "cols_input = []\n",
    "cols_output = []\n",
    "\n",
    "for col in dataset.columns:\n",
    "    if col.startswith(\"input\") or col.startswith('date'):\n",
    "        cols_input.append(col)\n",
    "    elif col.startswith(\"output\"):\n",
    "        cols_output.append(col)\n",
    "    else:\n",
    "        print(\"Unexpected column name:\", col)\n",
    "        continue\n",
    "\n",
    "inputs  = dataset[cols_input]\n",
    "outputs = dataset[cols_output]"
   ]
  },
  {
   "cell_type": "code",
   "execution_count": 10,
   "metadata": {},
   "outputs": [
    {
     "output_type": "stream",
     "name": "stdout",
     "text": [
      "Inputs\n"
     ]
    },
    {
     "output_type": "execute_result",
     "data": {
      "text/plain": [
       "   date  input_0  input_1  input_2  input_3  input_4_1  input_5_1  input_6_1  \\\n",
       "0     1        7        0      212       61   1.319214  -0.206138   2.953064   \n",
       "1     1        7        1      212       61   0.015678  -0.206138  -0.055500   \n",
       "2     1        7        2      212       61  -0.718217  -0.206138  -0.657213   \n",
       "3     1        7        3      212       61  -0.802090  -0.206138  -0.657213   \n",
       "4     1       13        0      183      142  -0.007038  -0.271512   0.924559   \n",
       "\n",
       "   input_7_1  input_8_1  ...  input_547_14  input_548_14  input_549_14  \\\n",
       "0   1.556292   0.585759  ...      1.809860      1.347449     -0.294892   \n",
       "1   0.112412   2.777662  ...      0.525939      0.863640     -0.294892   \n",
       "2   0.112412  -0.510193  ...     -0.757983      1.347449     -0.294892   \n",
       "3  -0.609528  -0.510193  ...     -0.757983     -0.602449     -0.294892   \n",
       "4   1.409946   0.810025  ...      0.863996     -0.614311      2.071813   \n",
       "\n",
       "   input_550_14  input_551_14  input_552_14  input_553_14  input_554_14  \\\n",
       "0      1.389491      0.455686      0.509034     -0.073706      1.852765   \n",
       "1     -1.030991      0.362408      0.517674     -0.073706      0.489274   \n",
       "2     -0.741760     -1.522024     -1.313605     -0.073706     -1.082850   \n",
       "3      0.085311     -0.155945     -2.021802     -0.073706     -1.082850   \n",
       "4      0.468146      0.134050      1.159395     -0.172821      0.516235   \n",
       "\n",
       "   input_555_14  input_556_14  \n",
       "0     -0.276792     -0.531387  \n",
       "1     -0.983316     -0.531387  \n",
       "2      0.231675     -0.531387  \n",
       "3     -0.983316     -0.531387  \n",
       "4      0.367480     -0.592766  \n",
       "\n",
       "[5 rows x 7747 columns]"
      ],
      "text/html": "<div>\n<style scoped>\n    .dataframe tbody tr th:only-of-type {\n        vertical-align: middle;\n    }\n\n    .dataframe tbody tr th {\n        vertical-align: top;\n    }\n\n    .dataframe thead th {\n        text-align: right;\n    }\n</style>\n<table border=\"1\" class=\"dataframe\">\n  <thead>\n    <tr style=\"text-align: right;\">\n      <th></th>\n      <th>date</th>\n      <th>input_0</th>\n      <th>input_1</th>\n      <th>input_2</th>\n      <th>input_3</th>\n      <th>input_4_1</th>\n      <th>input_5_1</th>\n      <th>input_6_1</th>\n      <th>input_7_1</th>\n      <th>input_8_1</th>\n      <th>...</th>\n      <th>input_547_14</th>\n      <th>input_548_14</th>\n      <th>input_549_14</th>\n      <th>input_550_14</th>\n      <th>input_551_14</th>\n      <th>input_552_14</th>\n      <th>input_553_14</th>\n      <th>input_554_14</th>\n      <th>input_555_14</th>\n      <th>input_556_14</th>\n    </tr>\n  </thead>\n  <tbody>\n    <tr>\n      <th>0</th>\n      <td>1</td>\n      <td>7</td>\n      <td>0</td>\n      <td>212</td>\n      <td>61</td>\n      <td>1.319214</td>\n      <td>-0.206138</td>\n      <td>2.953064</td>\n      <td>1.556292</td>\n      <td>0.585759</td>\n      <td>...</td>\n      <td>1.809860</td>\n      <td>1.347449</td>\n      <td>-0.294892</td>\n      <td>1.389491</td>\n      <td>0.455686</td>\n      <td>0.509034</td>\n      <td>-0.073706</td>\n      <td>1.852765</td>\n      <td>-0.276792</td>\n      <td>-0.531387</td>\n    </tr>\n    <tr>\n      <th>1</th>\n      <td>1</td>\n      <td>7</td>\n      <td>1</td>\n      <td>212</td>\n      <td>61</td>\n      <td>0.015678</td>\n      <td>-0.206138</td>\n      <td>-0.055500</td>\n      <td>0.112412</td>\n      <td>2.777662</td>\n      <td>...</td>\n      <td>0.525939</td>\n      <td>0.863640</td>\n      <td>-0.294892</td>\n      <td>-1.030991</td>\n      <td>0.362408</td>\n      <td>0.517674</td>\n      <td>-0.073706</td>\n      <td>0.489274</td>\n      <td>-0.983316</td>\n      <td>-0.531387</td>\n    </tr>\n    <tr>\n      <th>2</th>\n      <td>1</td>\n      <td>7</td>\n      <td>2</td>\n      <td>212</td>\n      <td>61</td>\n      <td>-0.718217</td>\n      <td>-0.206138</td>\n      <td>-0.657213</td>\n      <td>0.112412</td>\n      <td>-0.510193</td>\n      <td>...</td>\n      <td>-0.757983</td>\n      <td>1.347449</td>\n      <td>-0.294892</td>\n      <td>-0.741760</td>\n      <td>-1.522024</td>\n      <td>-1.313605</td>\n      <td>-0.073706</td>\n      <td>-1.082850</td>\n      <td>0.231675</td>\n      <td>-0.531387</td>\n    </tr>\n    <tr>\n      <th>3</th>\n      <td>1</td>\n      <td>7</td>\n      <td>3</td>\n      <td>212</td>\n      <td>61</td>\n      <td>-0.802090</td>\n      <td>-0.206138</td>\n      <td>-0.657213</td>\n      <td>-0.609528</td>\n      <td>-0.510193</td>\n      <td>...</td>\n      <td>-0.757983</td>\n      <td>-0.602449</td>\n      <td>-0.294892</td>\n      <td>0.085311</td>\n      <td>-0.155945</td>\n      <td>-2.021802</td>\n      <td>-0.073706</td>\n      <td>-1.082850</td>\n      <td>-0.983316</td>\n      <td>-0.531387</td>\n    </tr>\n    <tr>\n      <th>4</th>\n      <td>1</td>\n      <td>13</td>\n      <td>0</td>\n      <td>183</td>\n      <td>142</td>\n      <td>-0.007038</td>\n      <td>-0.271512</td>\n      <td>0.924559</td>\n      <td>1.409946</td>\n      <td>0.810025</td>\n      <td>...</td>\n      <td>0.863996</td>\n      <td>-0.614311</td>\n      <td>2.071813</td>\n      <td>0.468146</td>\n      <td>0.134050</td>\n      <td>1.159395</td>\n      <td>-0.172821</td>\n      <td>0.516235</td>\n      <td>0.367480</td>\n      <td>-0.592766</td>\n    </tr>\n  </tbody>\n</table>\n<p>5 rows × 7747 columns</p>\n</div>"
     },
     "metadata": {},
     "execution_count": 10
    }
   ],
   "source": [
    "print('Inputs')\n",
    "inputs.head()"
   ]
  },
  {
   "cell_type": "code",
   "execution_count": 12,
   "metadata": {},
   "outputs": [
    {
     "output_type": "stream",
     "name": "stdout",
     "text": [
      "Outputs\n"
     ]
    },
    {
     "output_type": "execute_result",
     "data": {
      "text/plain": [
       "   output_1_0  output_2_0  output_3_0  output_4_0  output_5_0  output_6_0  \\\n",
       "0   -0.696061    0.881745    0.079447   -0.059651   -0.236408    0.996766   \n",
       "1    1.350537    0.724799   -0.531665   -0.693425   -0.236408    0.267222   \n",
       "2   -0.696061   -0.766185   -0.837222   -0.693425   -0.236408   -0.219141   \n",
       "3   -0.013862   -0.923131   -0.990000   -0.851868   -0.236408   -0.705503   \n",
       "4    0.151276    0.316134    0.127676   -0.229432    1.202157    0.397220   \n",
       "\n",
       "   output_7_0  output_8_0  output_9_0  output_10_0  ...  output_7_6  \\\n",
       "0   -0.300557   -0.590900   -0.191157     0.290567  ...   -0.699538   \n",
       "1   -0.699538   -0.590900   -0.191157     0.034871  ...   -0.500047   \n",
       "2   -0.699538   -0.590900   -0.191157    -0.817448  ...   -0.699538   \n",
       "3   -0.699538   -0.590900   -0.191157    -0.902679  ...   -0.699538   \n",
       "4   -0.478358   -0.723711    0.230410     0.963149  ...   -0.149904   \n",
       "\n",
       "   output_8_6  output_9_6  output_10_6  output_11_6  output_12_6  output_13_6  \\\n",
       "0   -0.590900   -0.191157     1.654277     0.263587    -0.748686    -0.083200   \n",
       "1   -0.590900   -0.191157    -0.050361    -0.129333    -0.668941    -0.083200   \n",
       "2   -0.590900   -0.191157    -0.391288    -0.746778    -0.908174    -0.083200   \n",
       "3   -0.590900   -0.191157    -0.220824    -0.915172    -0.987918    -0.083200   \n",
       "4    0.733469    0.444222     0.691026     0.246365     0.313061    -0.190019   \n",
       "\n",
       "   output_14_6  output_15_6  output_16_6  \n",
       "0    -0.669203    -0.250413    -0.450770  \n",
       "1     0.010553    -0.456349    -0.450770  \n",
       "2    -0.669203    -0.662284    -0.450770  \n",
       "3    -0.669203    -0.662284    -0.450770  \n",
       "4     0.467357    -0.468351     0.300399  \n",
       "\n",
       "[5 rows x 112 columns]"
      ],
      "text/html": "<div>\n<style scoped>\n    .dataframe tbody tr th:only-of-type {\n        vertical-align: middle;\n    }\n\n    .dataframe tbody tr th {\n        vertical-align: top;\n    }\n\n    .dataframe thead th {\n        text-align: right;\n    }\n</style>\n<table border=\"1\" class=\"dataframe\">\n  <thead>\n    <tr style=\"text-align: right;\">\n      <th></th>\n      <th>output_1_0</th>\n      <th>output_2_0</th>\n      <th>output_3_0</th>\n      <th>output_4_0</th>\n      <th>output_5_0</th>\n      <th>output_6_0</th>\n      <th>output_7_0</th>\n      <th>output_8_0</th>\n      <th>output_9_0</th>\n      <th>output_10_0</th>\n      <th>...</th>\n      <th>output_7_6</th>\n      <th>output_8_6</th>\n      <th>output_9_6</th>\n      <th>output_10_6</th>\n      <th>output_11_6</th>\n      <th>output_12_6</th>\n      <th>output_13_6</th>\n      <th>output_14_6</th>\n      <th>output_15_6</th>\n      <th>output_16_6</th>\n    </tr>\n  </thead>\n  <tbody>\n    <tr>\n      <th>0</th>\n      <td>-0.696061</td>\n      <td>0.881745</td>\n      <td>0.079447</td>\n      <td>-0.059651</td>\n      <td>-0.236408</td>\n      <td>0.996766</td>\n      <td>-0.300557</td>\n      <td>-0.590900</td>\n      <td>-0.191157</td>\n      <td>0.290567</td>\n      <td>...</td>\n      <td>-0.699538</td>\n      <td>-0.590900</td>\n      <td>-0.191157</td>\n      <td>1.654277</td>\n      <td>0.263587</td>\n      <td>-0.748686</td>\n      <td>-0.083200</td>\n      <td>-0.669203</td>\n      <td>-0.250413</td>\n      <td>-0.450770</td>\n    </tr>\n    <tr>\n      <th>1</th>\n      <td>1.350537</td>\n      <td>0.724799</td>\n      <td>-0.531665</td>\n      <td>-0.693425</td>\n      <td>-0.236408</td>\n      <td>0.267222</td>\n      <td>-0.699538</td>\n      <td>-0.590900</td>\n      <td>-0.191157</td>\n      <td>0.034871</td>\n      <td>...</td>\n      <td>-0.500047</td>\n      <td>-0.590900</td>\n      <td>-0.191157</td>\n      <td>-0.050361</td>\n      <td>-0.129333</td>\n      <td>-0.668941</td>\n      <td>-0.083200</td>\n      <td>0.010553</td>\n      <td>-0.456349</td>\n      <td>-0.450770</td>\n    </tr>\n    <tr>\n      <th>2</th>\n      <td>-0.696061</td>\n      <td>-0.766185</td>\n      <td>-0.837222</td>\n      <td>-0.693425</td>\n      <td>-0.236408</td>\n      <td>-0.219141</td>\n      <td>-0.699538</td>\n      <td>-0.590900</td>\n      <td>-0.191157</td>\n      <td>-0.817448</td>\n      <td>...</td>\n      <td>-0.699538</td>\n      <td>-0.590900</td>\n      <td>-0.191157</td>\n      <td>-0.391288</td>\n      <td>-0.746778</td>\n      <td>-0.908174</td>\n      <td>-0.083200</td>\n      <td>-0.669203</td>\n      <td>-0.662284</td>\n      <td>-0.450770</td>\n    </tr>\n    <tr>\n      <th>3</th>\n      <td>-0.013862</td>\n      <td>-0.923131</td>\n      <td>-0.990000</td>\n      <td>-0.851868</td>\n      <td>-0.236408</td>\n      <td>-0.705503</td>\n      <td>-0.699538</td>\n      <td>-0.590900</td>\n      <td>-0.191157</td>\n      <td>-0.902679</td>\n      <td>...</td>\n      <td>-0.699538</td>\n      <td>-0.590900</td>\n      <td>-0.191157</td>\n      <td>-0.220824</td>\n      <td>-0.915172</td>\n      <td>-0.987918</td>\n      <td>-0.083200</td>\n      <td>-0.669203</td>\n      <td>-0.662284</td>\n      <td>-0.450770</td>\n    </tr>\n    <tr>\n      <th>4</th>\n      <td>0.151276</td>\n      <td>0.316134</td>\n      <td>0.127676</td>\n      <td>-0.229432</td>\n      <td>1.202157</td>\n      <td>0.397220</td>\n      <td>-0.478358</td>\n      <td>-0.723711</td>\n      <td>0.230410</td>\n      <td>0.963149</td>\n      <td>...</td>\n      <td>-0.149904</td>\n      <td>0.733469</td>\n      <td>0.444222</td>\n      <td>0.691026</td>\n      <td>0.246365</td>\n      <td>0.313061</td>\n      <td>-0.190019</td>\n      <td>0.467357</td>\n      <td>-0.468351</td>\n      <td>0.300399</td>\n    </tr>\n  </tbody>\n</table>\n<p>5 rows × 112 columns</p>\n</div>"
     },
     "metadata": {},
     "execution_count": 12
    }
   ],
   "source": [
    "print('Outputs')\n",
    "outputs.head()"
   ]
  },
  {
   "cell_type": "code",
   "execution_count": 14,
   "metadata": {},
   "outputs": [
    {
     "output_type": "stream",
     "name": "stdout",
     "text": [
      "# of training images: (9912, 7747)\n# of cross-validation images: (4248, 7747)\n"
     ]
    }
   ],
   "source": [
    "X_train, X_val, Y_train, Y_val = train_test_split(inputs, outputs, test_size=0.30, random_state=57) \n",
    "# Sung, sung, háa, pbaet never gets old\n",
    "\n",
    "print('# of training images:', X_train.shape)\n",
    "print('# of cross-validation images:', X_val.shape)"
   ]
  },
  {
   "source": [
    "### Criando o Modelo"
   ],
   "cell_type": "markdown",
   "metadata": {}
  },
  {
   "cell_type": "code",
   "execution_count": 16,
   "metadata": {},
   "outputs": [],
   "source": [
    "alpha = 0.01\n",
    "dropout_rate = 0.5\n",
    "\n",
    "input_shape = X_train.shape[1]\n",
    "output_shape = Y_train.shape[1]"
   ]
  },
  {
   "cell_type": "code",
   "execution_count": 18,
   "metadata": {},
   "outputs": [],
   "source": [
    "def basic_model():\n",
    "    input_layer = layers.Input(shape=(input_shape,))\n",
    "    x = layers.Dense(1024, activation=activations.linear)(input_layer)\n",
    "    x = layers.LeakyReLU(alpha)(x)\n",
    "    x = layers.Dropout(dropout_rate)(x)\n",
    "    x = layers.Dense(1024, activation=activations.linear)(x)\n",
    "    x = layers.LeakyReLU(alpha)(x)\n",
    "    x = layers.Dropout(dropout_rate)(x)\n",
    "    x = layers.Dense(1024, activation=activations.linear)(x)\n",
    "    x = layers.LeakyReLU(alpha)(x)\n",
    "    x = layers.Dropout(dropout_rate)(x)\n",
    "    x = layers.Dense(1024, activation=activations.linear)(x)\n",
    "    x = layers.LeakyReLU(alpha)(x)\n",
    "    x = layers.Dropout(dropout_rate)(x)\n",
    "    output_layer = layers.Dense(output_shape, activation=activations.linear)(x)\n",
    "    return models.Model(inputs=input_layer, outputs=output_layer)\n",
    "\n",
    "def convolutional_model():\n",
    "    input_layer = layers.Input(shape=(7747,))\n",
    "    # print(input_layer.shape)\n",
    "\n",
    "    general_input  = input_layer[:,0:5]\n",
    "    # print(general_input.shape)\n",
    "\n",
    "    temporal_input = input_layer[:,5:]\n",
    "    # print(temporal_input.shape)\n",
    "\n",
    "    temporal_input = tf.reshape(temporal_input, [-1, 553,14,1])\n",
    "    # print(temporal_input.shape)\n",
    "\n",
    "    print(temporal_input.shape)\n",
    "    x = layers.Conv1D(124, 5, activation='relu')(temporal_input)\n",
    "    print(x.shape)\n",
    "    x = layers.MaxPool2D(pool_size=(54,10))(x)\n",
    "    print(x.shape)\n",
    "    x = layers.Flatten()(x)\n",
    "    print(x.shape)\n",
    "\n",
    "    x = layers.Concatenate(axis=1)([general_input, x])\n",
    "    x = layers.Dense(16*1024, activation=activations.linear)(x)\n",
    "    x = layers.LeakyReLU(alpha)(x)\n",
    "    x = layers.Dense(1024, activation=activations.linear)(x)\n",
    "    x = layers.LeakyReLU(alpha)(x)\n",
    "    output_layer = layers.Dense(output_shape, activation=activations.linear)(x)\n",
    "    return models.Model(inputs=input_layer, outputs=output_layer)"
   ]
  },
  {
   "cell_type": "code",
   "execution_count": 20,
   "metadata": {},
   "outputs": [
    {
     "output_type": "stream",
     "name": "stdout",
     "text": [
      "(None, 553, 14, 1)\n",
      "(None, 553, 10, 124)\n",
      "(None, 10, 1, 124)\n",
      "(None, 1240)\n",
      "Model: \"functional_3\"\n",
      "__________________________________________________________________________________________________\n",
      "Layer (type)                    Output Shape         Param #     Connected to                     \n",
      "==================================================================================================\n",
      "input_2 (InputLayer)            [(None, 7747)]       0                                            \n",
      "__________________________________________________________________________________________________\n",
      "tf_op_layer_strided_slice_3 (Te [(None, 7742)]       0           input_2[0][0]                    \n",
      "__________________________________________________________________________________________________\n",
      "tf_op_layer_Reshape_1 (TensorFl [(None, 553, 14, 1)] 0           tf_op_layer_strided_slice_3[0][0]\n",
      "__________________________________________________________________________________________________\n",
      "conv1d_1 (Conv1D)               (None, 553, 10, 124) 744         tf_op_layer_Reshape_1[0][0]      \n",
      "__________________________________________________________________________________________________\n",
      "max_pooling2d_1 (MaxPooling2D)  (None, 10, 1, 124)   0           conv1d_1[0][0]                   \n",
      "__________________________________________________________________________________________________\n",
      "tf_op_layer_strided_slice_2 (Te [(None, 5)]          0           input_2[0][0]                    \n",
      "__________________________________________________________________________________________________\n",
      "flatten_1 (Flatten)             (None, 1240)         0           max_pooling2d_1[0][0]            \n",
      "__________________________________________________________________________________________________\n",
      "concatenate_1 (Concatenate)     (None, 1245)         0           tf_op_layer_strided_slice_2[0][0]\n",
      "                                                                 flatten_1[0][0]                  \n",
      "__________________________________________________________________________________________________\n",
      "dense_3 (Dense)                 (None, 16384)        20414464    concatenate_1[0][0]              \n",
      "__________________________________________________________________________________________________\n",
      "leaky_re_lu_2 (LeakyReLU)       (None, 16384)        0           dense_3[0][0]                    \n",
      "__________________________________________________________________________________________________\n",
      "dense_4 (Dense)                 (None, 1024)         16778240    leaky_re_lu_2[0][0]              \n",
      "__________________________________________________________________________________________________\n",
      "leaky_re_lu_3 (LeakyReLU)       (None, 1024)         0           dense_4[0][0]                    \n",
      "__________________________________________________________________________________________________\n",
      "dense_5 (Dense)                 (None, 112)          114800      leaky_re_lu_3[0][0]              \n",
      "==================================================================================================\n",
      "Total params: 37,308,248\n",
      "Trainable params: 37,308,248\n",
      "Non-trainable params: 0\n",
      "__________________________________________________________________________________________________\n"
     ]
    }
   ],
   "source": [
    "# model = basic_model()\n",
    "model = convolutional_model()\n",
    "\n",
    "opt = optimizers.Adam()\n",
    "model.compile(\n",
    "    optimizer=opt, \n",
    "    loss=losses.mean_squared_error, \n",
    "    metrics=[metrics.mean_squared_error])\n",
    "model.summary()"
   ]
  },
  {
   "source": [
    "### Treinamento"
   ],
   "cell_type": "markdown",
   "metadata": {}
  },
  {
   "cell_type": "code",
   "execution_count": null,
   "metadata": {
    "tags": []
   },
   "outputs": [],
   "source": [
    "batch_size = 1024\n",
    "\n",
    "history = model.fit(\n",
    "    X_train,\n",
    "    Y_train,\n",
    "    batch_size=batch_size,\n",
    "    epochs=100,\n",
    "    # We pass some validation for\n",
    "    # monitoring validation loss and metrics\n",
    "    # at the end of each epoch\n",
    "    validation_data=(X_val, Y_val),\n",
    "    validation_batch_size=batch_size,\n",
    ")\n"
   ]
  },
  {
   "cell_type": "code",
   "execution_count": null,
   "metadata": {},
   "outputs": [],
   "source": [
    "fig_format = 'png'\n",
    "\n",
    "# Plotting cost function convergence\n",
    "plt.plot(history.history['loss'])\n",
    "plt.plot(history.history['val_loss'])\n",
    "plt.xlabel('Epoch')\n",
    "plt.ylabel('Loss')\n",
    "plt.title('Cost Function Convergence')\n",
    "plt.legend(['Treinamento', 'Validação'])\n",
    "plt.grid()\n",
    "plt.savefig('convergence_imitation' + '.' + fig_format, format=fig_format)"
   ]
  },
  {
   "cell_type": "code",
   "execution_count": null,
   "metadata": {},
   "outputs": [],
   "source": [
    "model.save_weights(filepath='./KaggleDatasets/Weights/final_model.hdf5')"
   ]
  },
  {
   "cell_type": "code",
   "execution_count": null,
   "metadata": {},
   "outputs": [],
   "source": [
    "load_model(model_name + '.hdf5')"
   ]
  }
 ]
}