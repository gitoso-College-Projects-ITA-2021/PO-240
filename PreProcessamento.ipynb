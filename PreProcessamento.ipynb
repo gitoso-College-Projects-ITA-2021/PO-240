{
 "cells": [
  {
   "cell_type": "markdown",
   "metadata": {},
   "source": [
    "# PO-240: Pré-Processamento"
   ]
  },
  {
   "cell_type": "markdown",
   "metadata": {},
   "source": [
    "### Importando Bibliotecas"
   ]
  },
  {
   "cell_type": "code",
   "execution_count": 1,
   "metadata": {},
   "outputs": [],
   "source": [
    "from datetime import datetime\n",
    "import numpy as np\n",
    "import pandas as pd\n",
    "import seaborn as sn\n",
    "import matplotlib.pyplot as plt"
   ]
  },
  {
   "cell_type": "markdown",
   "metadata": {},
   "source": [
    "### Importando o Dataset"
   ]
  },
  {
   "cell_type": "code",
   "execution_count": 34,
   "metadata": {},
   "outputs": [
    {
     "output_type": "execute_result",
     "data": {
      "text/plain": [
       "      id        date  input_0  input_1  input_2  input_3  input_4_1  \\\n",
       "0  27214  2017-06-01       68        0      160      131   0.730351   \n",
       "1  27275  2017-06-01       68        1      160      131  -0.279627   \n",
       "2  27336  2017-06-01       68        2      160      131  -0.606385   \n",
       "3  27397  2017-06-01       68        3      160      131  -0.782869   \n",
       "4  30056  2017-06-01       75        0      164      135   0.449025   \n",
       "\n",
       "   input_5_1  input_6_1  input_7_1  ...  output_7_6  output_8_6  output_9_6  \\\n",
       "0  -0.484791   0.122120  -0.205354  ...    2.569752    0.809300   -0.332242   \n",
       "1  -0.484791   0.122120  -0.706161  ...   -0.802133   -0.473629   -0.771409   \n",
       "2  -0.484791  -0.725561  -0.706161  ...   -0.481001   -0.152897   -0.507909   \n",
       "3  -0.484791  -0.725561  -0.706161  ...   -0.802133   -0.473629   -0.771409   \n",
       "4  -0.388949   0.274415  -0.026731  ...    1.939692    0.146260   -0.409396   \n",
       "\n",
       "   output_10_6  output_11_6  output_12_6  output_13_6  output_14_6  \\\n",
       "0     2.000099     1.608055     0.754655    -0.321827     3.504003   \n",
       "1    -0.765082    -0.949418    -0.916985    -0.321827    -0.389210   \n",
       "2    -0.708650    -0.827634    -0.663706    -0.321827    -0.551427   \n",
       "3    -0.990812    -0.990013    -1.068952    -0.321827    -0.713645   \n",
       "4     1.662065     0.846325     0.567948    -0.236317     2.978473   \n",
       "\n",
       "   output_15_6  output_16_6  \n",
       "0     1.396752     0.575128  \n",
       "1    -0.481662    -0.017313  \n",
       "2    -0.371167    -0.609755  \n",
       "3    -0.592157    -0.609755  \n",
       "4     1.622595     1.049236  \n",
       "\n",
       "[5 rows x 7860 columns]"
      ],
      "text/html": "<div>\n<style scoped>\n    .dataframe tbody tr th:only-of-type {\n        vertical-align: middle;\n    }\n\n    .dataframe tbody tr th {\n        vertical-align: top;\n    }\n\n    .dataframe thead th {\n        text-align: right;\n    }\n</style>\n<table border=\"1\" class=\"dataframe\">\n  <thead>\n    <tr style=\"text-align: right;\">\n      <th></th>\n      <th>id</th>\n      <th>date</th>\n      <th>input_0</th>\n      <th>input_1</th>\n      <th>input_2</th>\n      <th>input_3</th>\n      <th>input_4_1</th>\n      <th>input_5_1</th>\n      <th>input_6_1</th>\n      <th>input_7_1</th>\n      <th>...</th>\n      <th>output_7_6</th>\n      <th>output_8_6</th>\n      <th>output_9_6</th>\n      <th>output_10_6</th>\n      <th>output_11_6</th>\n      <th>output_12_6</th>\n      <th>output_13_6</th>\n      <th>output_14_6</th>\n      <th>output_15_6</th>\n      <th>output_16_6</th>\n    </tr>\n  </thead>\n  <tbody>\n    <tr>\n      <th>0</th>\n      <td>27214</td>\n      <td>2017-06-01</td>\n      <td>68</td>\n      <td>0</td>\n      <td>160</td>\n      <td>131</td>\n      <td>0.730351</td>\n      <td>-0.484791</td>\n      <td>0.122120</td>\n      <td>-0.205354</td>\n      <td>...</td>\n      <td>2.569752</td>\n      <td>0.809300</td>\n      <td>-0.332242</td>\n      <td>2.000099</td>\n      <td>1.608055</td>\n      <td>0.754655</td>\n      <td>-0.321827</td>\n      <td>3.504003</td>\n      <td>1.396752</td>\n      <td>0.575128</td>\n    </tr>\n    <tr>\n      <th>1</th>\n      <td>27275</td>\n      <td>2017-06-01</td>\n      <td>68</td>\n      <td>1</td>\n      <td>160</td>\n      <td>131</td>\n      <td>-0.279627</td>\n      <td>-0.484791</td>\n      <td>0.122120</td>\n      <td>-0.706161</td>\n      <td>...</td>\n      <td>-0.802133</td>\n      <td>-0.473629</td>\n      <td>-0.771409</td>\n      <td>-0.765082</td>\n      <td>-0.949418</td>\n      <td>-0.916985</td>\n      <td>-0.321827</td>\n      <td>-0.389210</td>\n      <td>-0.481662</td>\n      <td>-0.017313</td>\n    </tr>\n    <tr>\n      <th>2</th>\n      <td>27336</td>\n      <td>2017-06-01</td>\n      <td>68</td>\n      <td>2</td>\n      <td>160</td>\n      <td>131</td>\n      <td>-0.606385</td>\n      <td>-0.484791</td>\n      <td>-0.725561</td>\n      <td>-0.706161</td>\n      <td>...</td>\n      <td>-0.481001</td>\n      <td>-0.152897</td>\n      <td>-0.507909</td>\n      <td>-0.708650</td>\n      <td>-0.827634</td>\n      <td>-0.663706</td>\n      <td>-0.321827</td>\n      <td>-0.551427</td>\n      <td>-0.371167</td>\n      <td>-0.609755</td>\n    </tr>\n    <tr>\n      <th>3</th>\n      <td>27397</td>\n      <td>2017-06-01</td>\n      <td>68</td>\n      <td>3</td>\n      <td>160</td>\n      <td>131</td>\n      <td>-0.782869</td>\n      <td>-0.484791</td>\n      <td>-0.725561</td>\n      <td>-0.706161</td>\n      <td>...</td>\n      <td>-0.802133</td>\n      <td>-0.473629</td>\n      <td>-0.771409</td>\n      <td>-0.990812</td>\n      <td>-0.990013</td>\n      <td>-1.068952</td>\n      <td>-0.321827</td>\n      <td>-0.713645</td>\n      <td>-0.592157</td>\n      <td>-0.609755</td>\n    </tr>\n    <tr>\n      <th>4</th>\n      <td>30056</td>\n      <td>2017-06-01</td>\n      <td>75</td>\n      <td>0</td>\n      <td>164</td>\n      <td>135</td>\n      <td>0.449025</td>\n      <td>-0.388949</td>\n      <td>0.274415</td>\n      <td>-0.026731</td>\n      <td>...</td>\n      <td>1.939692</td>\n      <td>0.146260</td>\n      <td>-0.409396</td>\n      <td>1.662065</td>\n      <td>0.846325</td>\n      <td>0.567948</td>\n      <td>-0.236317</td>\n      <td>2.978473</td>\n      <td>1.622595</td>\n      <td>1.049236</td>\n    </tr>\n  </tbody>\n</table>\n<p>5 rows × 7860 columns</p>\n</div>"
     },
     "metadata": {},
     "execution_count": 34
    }
   ],
   "source": [
    "input_folder = 'KaggleDatasets/RAW/'\n",
    "output_folder = 'KaggleDatasets/PRE/'\n",
    "filename = 'preprocessado.csv'\n",
    "number_files = 5\n",
    "\n",
    "files = []\n",
    "for entry in os.listdir(input_folder):\n",
    "    if entry.startswith(\"public\") or entry.startswith(\"sample\"):\n",
    "        continue\n",
    "    file_path = os.path.join(input_folder, entry)\n",
    "    if os.path.isfile(file_path):\n",
    "        files.append(file_path)\n",
    "\n",
    "datasets = []\n",
    "chosen = np.choose([number_files], files)\n",
    "for file_path in chosen:\n",
    "    ds = pd.read_csv(file_path)\n",
    "    datasets.append(ds)\n",
    "\n",
    "dataset = pd.concat(datasets, sort=False)\n",
    "dataset.head()"
   ]
  },
  {
   "cell_type": "markdown",
   "metadata": {},
   "source": [
    "### Removendo Dados"
   ]
  },
  {
   "cell_type": "code",
   "execution_count": 35,
   "metadata": {},
   "outputs": [],
   "source": [
    "dataset = dataset.drop(['id'], axis=1)"
   ]
  },
  {
   "cell_type": "markdown",
   "metadata": {},
   "source": [
    "### Convertendo a data para número da semana"
   ]
  },
  {
   "cell_type": "code",
   "execution_count": 36,
   "metadata": {},
   "outputs": [
    {
     "output_type": "execute_result",
     "data": {
      "text/plain": [
       "   date  input_0  input_1  input_2  input_3  input_4_1  input_5_1  input_6_1  \\\n",
       "0     1       68        0      160      131   0.730351  -0.484791   0.122120   \n",
       "1     1       68        1      160      131  -0.279627  -0.484791   0.122120   \n",
       "2     1       68        2      160      131  -0.606385  -0.484791  -0.725561   \n",
       "3     1       68        3      160      131  -0.782869  -0.484791  -0.725561   \n",
       "4     1       75        0      164      135   0.449025  -0.388949   0.274415   \n",
       "\n",
       "   input_7_1  input_8_1  ...  output_7_6  output_8_6  output_9_6  output_10_6  \\\n",
       "0  -0.205354   1.217061  ...    2.569752    0.809300   -0.332242     2.000099   \n",
       "1  -0.706161  -0.638826  ...   -0.802133   -0.473629   -0.771409    -0.765082   \n",
       "2  -0.706161  -0.638826  ...   -0.481001   -0.152897   -0.507909    -0.708650   \n",
       "3  -0.706161  -0.638826  ...   -0.802133   -0.473629   -0.771409    -0.990812   \n",
       "4  -0.026731   1.701169  ...    1.939692    0.146260   -0.409396     1.662065   \n",
       "\n",
       "   output_11_6  output_12_6  output_13_6  output_14_6  output_15_6  \\\n",
       "0     1.608055     0.754655    -0.321827     3.504003     1.396752   \n",
       "1    -0.949418    -0.916985    -0.321827    -0.389210    -0.481662   \n",
       "2    -0.827634    -0.663706    -0.321827    -0.551427    -0.371167   \n",
       "3    -0.990013    -1.068952    -0.321827    -0.713645    -0.592157   \n",
       "4     0.846325     0.567948    -0.236317     2.978473     1.622595   \n",
       "\n",
       "   output_16_6  \n",
       "0     0.575128  \n",
       "1    -0.017313  \n",
       "2    -0.609755  \n",
       "3    -0.609755  \n",
       "4     1.049236  \n",
       "\n",
       "[5 rows x 7859 columns]"
      ],
      "text/html": "<div>\n<style scoped>\n    .dataframe tbody tr th:only-of-type {\n        vertical-align: middle;\n    }\n\n    .dataframe tbody tr th {\n        vertical-align: top;\n    }\n\n    .dataframe thead th {\n        text-align: right;\n    }\n</style>\n<table border=\"1\" class=\"dataframe\">\n  <thead>\n    <tr style=\"text-align: right;\">\n      <th></th>\n      <th>date</th>\n      <th>input_0</th>\n      <th>input_1</th>\n      <th>input_2</th>\n      <th>input_3</th>\n      <th>input_4_1</th>\n      <th>input_5_1</th>\n      <th>input_6_1</th>\n      <th>input_7_1</th>\n      <th>input_8_1</th>\n      <th>...</th>\n      <th>output_7_6</th>\n      <th>output_8_6</th>\n      <th>output_9_6</th>\n      <th>output_10_6</th>\n      <th>output_11_6</th>\n      <th>output_12_6</th>\n      <th>output_13_6</th>\n      <th>output_14_6</th>\n      <th>output_15_6</th>\n      <th>output_16_6</th>\n    </tr>\n  </thead>\n  <tbody>\n    <tr>\n      <th>0</th>\n      <td>1</td>\n      <td>68</td>\n      <td>0</td>\n      <td>160</td>\n      <td>131</td>\n      <td>0.730351</td>\n      <td>-0.484791</td>\n      <td>0.122120</td>\n      <td>-0.205354</td>\n      <td>1.217061</td>\n      <td>...</td>\n      <td>2.569752</td>\n      <td>0.809300</td>\n      <td>-0.332242</td>\n      <td>2.000099</td>\n      <td>1.608055</td>\n      <td>0.754655</td>\n      <td>-0.321827</td>\n      <td>3.504003</td>\n      <td>1.396752</td>\n      <td>0.575128</td>\n    </tr>\n    <tr>\n      <th>1</th>\n      <td>1</td>\n      <td>68</td>\n      <td>1</td>\n      <td>160</td>\n      <td>131</td>\n      <td>-0.279627</td>\n      <td>-0.484791</td>\n      <td>0.122120</td>\n      <td>-0.706161</td>\n      <td>-0.638826</td>\n      <td>...</td>\n      <td>-0.802133</td>\n      <td>-0.473629</td>\n      <td>-0.771409</td>\n      <td>-0.765082</td>\n      <td>-0.949418</td>\n      <td>-0.916985</td>\n      <td>-0.321827</td>\n      <td>-0.389210</td>\n      <td>-0.481662</td>\n      <td>-0.017313</td>\n    </tr>\n    <tr>\n      <th>2</th>\n      <td>1</td>\n      <td>68</td>\n      <td>2</td>\n      <td>160</td>\n      <td>131</td>\n      <td>-0.606385</td>\n      <td>-0.484791</td>\n      <td>-0.725561</td>\n      <td>-0.706161</td>\n      <td>-0.638826</td>\n      <td>...</td>\n      <td>-0.481001</td>\n      <td>-0.152897</td>\n      <td>-0.507909</td>\n      <td>-0.708650</td>\n      <td>-0.827634</td>\n      <td>-0.663706</td>\n      <td>-0.321827</td>\n      <td>-0.551427</td>\n      <td>-0.371167</td>\n      <td>-0.609755</td>\n    </tr>\n    <tr>\n      <th>3</th>\n      <td>1</td>\n      <td>68</td>\n      <td>3</td>\n      <td>160</td>\n      <td>131</td>\n      <td>-0.782869</td>\n      <td>-0.484791</td>\n      <td>-0.725561</td>\n      <td>-0.706161</td>\n      <td>-0.638826</td>\n      <td>...</td>\n      <td>-0.802133</td>\n      <td>-0.473629</td>\n      <td>-0.771409</td>\n      <td>-0.990812</td>\n      <td>-0.990013</td>\n      <td>-1.068952</td>\n      <td>-0.321827</td>\n      <td>-0.713645</td>\n      <td>-0.592157</td>\n      <td>-0.609755</td>\n    </tr>\n    <tr>\n      <th>4</th>\n      <td>1</td>\n      <td>75</td>\n      <td>0</td>\n      <td>164</td>\n      <td>135</td>\n      <td>0.449025</td>\n      <td>-0.388949</td>\n      <td>0.274415</td>\n      <td>-0.026731</td>\n      <td>1.701169</td>\n      <td>...</td>\n      <td>1.939692</td>\n      <td>0.146260</td>\n      <td>-0.409396</td>\n      <td>1.662065</td>\n      <td>0.846325</td>\n      <td>0.567948</td>\n      <td>-0.236317</td>\n      <td>2.978473</td>\n      <td>1.622595</td>\n      <td>1.049236</td>\n    </tr>\n  </tbody>\n</table>\n<p>5 rows × 7859 columns</p>\n</div>"
     },
     "metadata": {},
     "execution_count": 36
    }
   ],
   "source": [
    "dataset['date'] = dataset['date'].apply(lambda x: datetime.strptime(x, \"%Y-%m-%d\").day)\n",
    "dataset.head()"
   ]
  },
  {
   "cell_type": "markdown",
   "metadata": {},
   "source": [
    "### Tratando os NA"
   ]
  },
  {
   "cell_type": "code",
   "execution_count": 37,
   "metadata": {},
   "outputs": [],
   "source": [
    "# Parâmetros\n",
    "x = 55 # x%\n",
    "y = 35 # y%\n",
    "z = 20 # z%\n",
    "\n",
    "# Tratamento\n",
    "# NA > x% : descarta\n",
    "# x% >NA > y% e variancia < z : descarta\n",
    "# y% > NA: substitui pela media, moda ou mediana\n",
    "\n",
    "total = len(dataset)\n",
    "delete_list = []\n",
    "median_list = []\n",
    "\n",
    "variance = dataset.var()\n",
    "mean = dataset.mean()\n",
    "\n",
    "for column in dataset:\n",
    "    num_na = dataset[column].isnull().sum()\n",
    "    per_na = num_na * 100 / total\n",
    "    aux = variance[column] * 100 / mean[column]\n",
    "    if per_na > x:\n",
    "        delete_list.append(column)\n",
    "    elif per_na > y and aux > z:\n",
    "        delete_list.append(column)\n",
    "    elif num_na > 0:\n",
    "        median_list.append(column)\n",
    "        \n",
    "dataset = dataset.drop(delete_list, axis=1)\n",
    "\n",
    "median = dataset.median()\n",
    "for column in median_list:\n",
    "    dataset[column] = dataset[column].fillna(median[column])\n",
    "    \n",
    "dataset.to_csv(output_folder + filename, index=False)"
   ]
  }
 ],
 "metadata": {
  "kernelspec": {
   "display_name": "Python 3",
   "language": "python",
   "name": "python3"
  },
  "language_info": {
   "codemirror_mode": {
    "name": "ipython",
    "version": 3
   },
   "file_extension": ".py",
   "mimetype": "text/x-python",
   "name": "python",
   "nbconvert_exporter": "python",
   "pygments_lexer": "ipython3",
   "version": "3.8.6-final"
  }
 },
 "nbformat": 4,
 "nbformat_minor": 4
}